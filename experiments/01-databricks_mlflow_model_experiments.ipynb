{
 "cells": [
  {
   "cell_type": "code",
   "execution_count": 1,
   "id": "3c3cdb7d",
   "metadata": {},
   "outputs": [],
   "source": [
    "import os, mlflow\n",
    "from dotenv import load_dotenv\n",
    "\n",
    "load_dotenv(override=True)  # Carga las variables del archivo .env\n",
    "EXPERIMENT_NAME = \"/Users/esteban.berumen@iteso.mx/nyc-taxi-experiments\"\n",
    "\n",
    "mlflow.set_tracking_uri(\"databricks\")\n",
    "experiment = mlflow.set_experiment(experiment_name=EXPERIMENT_NAME)"
   ]
  },
  {
   "cell_type": "code",
   "execution_count": 2,
   "id": "93cf9819",
   "metadata": {},
   "outputs": [],
   "source": [
    "import pickle\n",
    "import pandas as pd\n",
    "from sklearn.metrics import  root_mean_squared_error\n",
    "from sklearn.feature_extraction import  DictVectorizer"
   ]
  },
  {
   "cell_type": "code",
   "execution_count": 3,
   "id": "5deb5a92",
   "metadata": {},
   "outputs": [],
   "source": [
    "def read_dataframe(filename):\n",
    "\n",
    "    df = pd.read_parquet(filename)\n",
    "\n",
    "    df['duration'] = df.lpep_dropoff_datetime - df.lpep_pickup_datetime\n",
    "    df.duration = df.duration.apply(lambda td: td.total_seconds() / 60)\n",
    "\n",
    "    df = df[(df.duration >= 1) & (df.duration <= 60)]\n",
    "\n",
    "    categorical = ['PULocationID', 'DOLocationID']\n",
    "    df[categorical] = df[categorical].astype(str)\n",
    "\n",
    "    return df"
   ]
  },
  {
   "cell_type": "code",
   "execution_count": 4,
   "id": "e5dadcc2",
   "metadata": {},
   "outputs": [],
   "source": [
    "df_train = read_dataframe('../data/green_tripdata_2025-01.parquet')\n",
    "df_val = read_dataframe('../data/green_tripdata_2025-02.parquet')"
   ]
  },
  {
   "cell_type": "code",
   "execution_count": 35,
   "id": "30e3254c",
   "metadata": {},
   "outputs": [],
   "source": [
    "def preprocess(df, dv):\n",
    "    df['PU_DO'] = df['PULocationID'] + '_' + df['DOLocationID']\n",
    "    categorical = ['PU_DO']\n",
    "    numerical = ['trip_distance']\n",
    "    train_dicts = df[categorical + numerical].to_dict(orient='records')\n",
    "    return dv.transform(train_dicts)"
   ]
  },
  {
   "cell_type": "code",
   "execution_count": 36,
   "id": "80c69b84",
   "metadata": {},
   "outputs": [],
   "source": [
    "df_train['PU_DO'] = df_train['PULocationID'] + '_' + df_train['DOLocationID']\n",
    "categorical = ['PU_DO']\n",
    "numerical = ['trip_distance']\n",
    "dv = DictVectorizer()\n",
    "\n",
    "train_dicts = df_train[categorical + numerical].to_dict(orient='records')\n",
    "X_train = dv.fit_transform(train_dicts)\n",
    "\n",
    "X_val = preprocess(df_val, dv)"
   ]
  },
  {
   "cell_type": "code",
   "execution_count": 37,
   "id": "911c9ced",
   "metadata": {},
   "outputs": [],
   "source": [
    "target = 'duration'\n",
    "y_train = df_train[target].values\n",
    "y_val = df_val[target].values"
   ]
  },
  {
   "cell_type": "code",
   "execution_count": 38,
   "id": "b79002bc",
   "metadata": {},
   "outputs": [],
   "source": [
    "training_dataset = mlflow.data.from_numpy(X_train.data, targets=y_train, name=\"green_tripdata_2025-01\")\n",
    "validation_dataset = mlflow.data.from_numpy(X_val.data, targets=y_val, name=\"green_tripdata_2025-02\")"
   ]
  },
  {
   "cell_type": "code",
   "execution_count": 39,
   "id": "790d62ad",
   "metadata": {},
   "outputs": [],
   "source": [
    "import math\n",
    "import optuna\n",
    "import pathlib\n",
    "import xgboost as xgb\n",
    "from optuna.samplers import TPESampler\n",
    "from mlflow.models.signature import infer_signature"
   ]
  },
  {
   "cell_type": "code",
   "execution_count": 40,
   "id": "404010b7",
   "metadata": {},
   "outputs": [],
   "source": [
    "train = xgb.DMatrix(X_train, label=y_train)\n",
    "valid = xgb.DMatrix(X_val, label=y_val)"
   ]
  },
  {
   "cell_type": "code",
   "execution_count": 41,
   "id": "f9b81a8a",
   "metadata": {},
   "outputs": [],
   "source": [
    "# ------------------------------------------------------------\n",
    "# Definir la función objetivo para Optuna\n",
    "#    - Recibe un `trial`, que se usa para proponer hiperparámetros.\n",
    "#    - Entrena un modelo con esos hiperparámetros.\n",
    "#    - Calcula la métrica de validación (RMSE) y la retorna (Optuna la minimizará).\n",
    "#    - Abrimos un run anidado de MLflow para registrar cada trial.\n",
    "# ------------------------------------------------------------\n",
    "def objective(trial: optuna.trial.Trial):\n",
    "    # Hiperparámetros MUESTREADOS por Optuna en CADA trial.\n",
    "    # Nota: usamos log=True para emular rangos log-uniformes (similar a loguniform).\n",
    "    params = {\n",
    "        \"max_depth\": trial.suggest_int(\"max_depth\", 4, 100),\n",
    "        \"learning_rate\": trial.suggest_float(\"learning_rate\", math.exp(-3), 1.0, log=True),\n",
    "        \"reg_alpha\": trial.suggest_float(\"reg_alpha\",   math.exp(-5), math.exp(-1), log=True),\n",
    "        \"reg_lambda\": trial.suggest_float(\"reg_lambda\", math.exp(-6), math.exp(-1), log=True),\n",
    "        \"min_child_weight\": trial.suggest_float(\"min_child_weight\", math.exp(-1), math.exp(3), log=True),\n",
    "        \"objective\": \"reg:squarederror\",  \n",
    "        \"seed\": 42,                      \n",
    "    }\n",
    "\n",
    "    # Run anidado para dejar rastro de cada trial en MLflow\n",
    "    with mlflow.start_run(nested=True):\n",
    "        mlflow.set_tag(\"model_family\", \"xgboost\")  # etiqueta informativa\n",
    "        mlflow.log_params(params)                  # registra hiperparámetros del trial\n",
    "\n",
    "        # Entrenamiento con early stopping en el conjunto de validación\n",
    "        booster = xgb.train(\n",
    "            params=params,\n",
    "            dtrain=train,\n",
    "            num_boost_round=100,\n",
    "            evals=[(valid, \"validation\")],\n",
    "            early_stopping_rounds=10,\n",
    "        )\n",
    "\n",
    "        # Predicción y métrica en validación\n",
    "        y_pred = booster.predict(valid)\n",
    "        rmse = root_mean_squared_error(y_val, y_pred)\n",
    "\n",
    "        # Registrar la métrica principal\n",
    "        mlflow.log_metric(\"rmse\", rmse)\n",
    "\n",
    "        # La \"signature\" describe la estructura esperada de entrada y salida del modelo:\n",
    "        # incluye los nombres, tipos y forma (shape) de las variables de entrada y el tipo de salida.\n",
    "        # MLflow la usa para validar datos en inferencia y documentar el modelo en el Model Registry.\n",
    "        signature = infer_signature(X_val, y_pred)\n",
    "\n",
    "        # Guardar el modelo del trial como artefacto en MLflow.\n",
    "        mlflow.xgboost.log_model(\n",
    "            booster,\n",
    "            name=\"model\",\n",
    "            input_example=X_val[:5],\n",
    "            signature=signature\n",
    "        )\n",
    "\n",
    "    # Optuna minimiza el valor retornado\n",
    "    return rmse"
   ]
  },
  {
   "cell_type": "code",
   "execution_count": 42,
   "id": "78f54ab9",
   "metadata": {},
   "outputs": [
    {
     "name": "stderr",
     "output_type": "stream",
     "text": [
      "[I 2025-10-23 21:15:08,750] A new study created in memory with name: no-name-523758b9-e290-4c57-8bb6-1d35bf6da5e8\n"
     ]
    },
    {
     "name": "stdout",
     "output_type": "stream",
     "text": [
      "[0]\tvalidation-rmse:5.72427\n",
      "[1]\tvalidation-rmse:5.57860\n",
      "[2]\tvalidation-rmse:5.56409\n",
      "[3]\tvalidation-rmse:5.56982\n",
      "[4]\tvalidation-rmse:5.57347\n",
      "[5]\tvalidation-rmse:5.55585\n",
      "[6]\tvalidation-rmse:5.55736\n",
      "[7]\tvalidation-rmse:5.55253\n",
      "[8]\tvalidation-rmse:5.55232\n",
      "[9]\tvalidation-rmse:5.53322\n",
      "[10]\tvalidation-rmse:5.53156\n",
      "[11]\tvalidation-rmse:5.53006\n",
      "[12]\tvalidation-rmse:5.52808\n",
      "[13]\tvalidation-rmse:5.52782\n",
      "[14]\tvalidation-rmse:5.52451\n",
      "[15]\tvalidation-rmse:5.52324\n",
      "[16]\tvalidation-rmse:5.52269\n",
      "[17]\tvalidation-rmse:5.52229\n",
      "[18]\tvalidation-rmse:5.52366\n",
      "[19]\tvalidation-rmse:5.52900\n",
      "[20]\tvalidation-rmse:5.52988\n",
      "[21]\tvalidation-rmse:5.52969\n",
      "[22]\tvalidation-rmse:5.52872\n",
      "[23]\tvalidation-rmse:5.53195\n",
      "[24]\tvalidation-rmse:5.52894\n",
      "[25]\tvalidation-rmse:5.52702\n",
      "[26]\tvalidation-rmse:5.53066\n"
     ]
    },
    {
     "name": "stderr",
     "output_type": "stream",
     "text": [
      "c:\\Users\\esteb\\apps\\PC-20205\\nyc-taxi-predictions-2025\\.venv\\Lib\\site-packages\\mlflow\\xgboost\\__init__.py:169: UserWarning: [21:15:26] WARNING: C:\\actions-runner\\_work\\xgboost\\xgboost\\src\\c_api\\c_api.cc:1575: Saving model in the UBJSON format as default.  You can use a file extension: `json` or `ubj` to choose between formats.\n",
      "  xgb_model.save_model(model_data_path)\n",
      "2025/10/23 21:15:32 WARNING mlflow.utils.environment: Failed to resolve installed pip version. ``pip`` will be added to conda.yaml environment spec without a version specifier.\n"
     ]
    },
    {
     "data": {
      "application/vnd.jupyter.widget-view+json": {
       "model_id": "bb7ae90081df4076af11bdfef68ae340",
       "version_major": 2,
       "version_minor": 0
      },
      "text/plain": [
       "Downloading artifacts:   0%|          | 0/7 [00:00<?, ?it/s]"
      ]
     },
     "metadata": {},
     "output_type": "display_data"
    },
    {
     "name": "stderr",
     "output_type": "stream",
     "text": [
      "c:\\Users\\esteb\\apps\\PC-20205\\nyc-taxi-predictions-2025\\.venv\\Lib\\site-packages\\mlflow\\xgboost\\__init__.py:321: UserWarning: [21:15:32] WARNING: C:\\actions-runner\\_work\\xgboost\\xgboost\\src\\c_api\\c_api.cc:1511: Unknown file format: `xgb`. Using UBJSON (`ubj`) as a guess.\n",
      "  model.load_model(xgb_model_path)\n",
      "[I 2025-10-23 21:15:34,808] Trial 0 finished with value: 5.5334711429183985 and parameters: {'max_depth': 40, 'learning_rate': 0.8625543817410922, 'reg_alpha': 0.12593061066249622, 'reg_lambda': 0.049454235173237264, 'min_child_weight': 0.6866535292359801}. Best is trial 0 with value: 5.5334711429183985.\n"
     ]
    },
    {
     "name": "stdout",
     "output_type": "stream",
     "text": [
      "🏃 View run salty-shrike-446 at: https://adb-3598518169245956.16.azuredatabricks.net/ml/experiments/3998396881915768/runs/34d00dd203ff4d638f059701d38dcb15\n",
      "🧪 View experiment at: https://adb-3598518169245956.16.azuredatabricks.net/ml/experiments/3998396881915768\n",
      "[0]\tvalidation-rmse:8.77707\n",
      "[1]\tvalidation-rmse:8.47452\n",
      "[2]\tvalidation-rmse:8.19669\n",
      "[3]\tvalidation-rmse:7.94182\n",
      "[4]\tvalidation-rmse:7.70901\n",
      "[5]\tvalidation-rmse:7.49664\n",
      "[6]\tvalidation-rmse:7.30245\n",
      "[7]\tvalidation-rmse:7.12626\n",
      "[8]\tvalidation-rmse:6.96581\n",
      "[9]\tvalidation-rmse:6.81994\n",
      "[10]\tvalidation-rmse:6.68775\n",
      "[11]\tvalidation-rmse:6.56832\n",
      "[12]\tvalidation-rmse:6.46039\n",
      "[13]\tvalidation-rmse:6.36272\n",
      "[14]\tvalidation-rmse:6.27449\n",
      "[15]\tvalidation-rmse:6.19394\n",
      "[16]\tvalidation-rmse:6.12203\n",
      "[17]\tvalidation-rmse:6.05669\n",
      "[18]\tvalidation-rmse:5.99838\n",
      "[19]\tvalidation-rmse:5.94487\n",
      "[20]\tvalidation-rmse:5.89709\n",
      "[21]\tvalidation-rmse:5.85472\n",
      "[22]\tvalidation-rmse:5.81565\n",
      "[23]\tvalidation-rmse:5.78117\n",
      "[24]\tvalidation-rmse:5.74956\n",
      "[25]\tvalidation-rmse:5.72125\n",
      "[26]\tvalidation-rmse:5.69577\n",
      "[27]\tvalidation-rmse:5.67283\n",
      "[28]\tvalidation-rmse:5.65235\n",
      "[29]\tvalidation-rmse:5.63408\n",
      "[30]\tvalidation-rmse:5.61693\n",
      "[31]\tvalidation-rmse:5.60146\n",
      "[32]\tvalidation-rmse:5.58729\n",
      "[33]\tvalidation-rmse:5.57488\n",
      "[34]\tvalidation-rmse:5.56325\n",
      "[35]\tvalidation-rmse:5.55263\n",
      "[36]\tvalidation-rmse:5.54270\n",
      "[37]\tvalidation-rmse:5.53408\n",
      "[38]\tvalidation-rmse:5.52628\n",
      "[39]\tvalidation-rmse:5.51936\n",
      "[40]\tvalidation-rmse:5.51300\n",
      "[41]\tvalidation-rmse:5.50724\n",
      "[42]\tvalidation-rmse:5.50206\n",
      "[43]\tvalidation-rmse:5.49720\n",
      "[44]\tvalidation-rmse:5.49290\n",
      "[45]\tvalidation-rmse:5.48778\n",
      "[46]\tvalidation-rmse:5.48302\n",
      "[47]\tvalidation-rmse:5.47966\n",
      "[48]\tvalidation-rmse:5.47615\n",
      "[49]\tvalidation-rmse:5.47273\n",
      "[50]\tvalidation-rmse:5.46948\n",
      "[51]\tvalidation-rmse:5.46665\n",
      "[52]\tvalidation-rmse:5.46376\n",
      "[53]\tvalidation-rmse:5.46097\n",
      "[54]\tvalidation-rmse:5.45798\n",
      "[55]\tvalidation-rmse:5.45555\n",
      "[56]\tvalidation-rmse:5.45318\n",
      "[57]\tvalidation-rmse:5.45135\n",
      "[58]\tvalidation-rmse:5.44924\n",
      "[59]\tvalidation-rmse:5.44741\n",
      "[60]\tvalidation-rmse:5.44562\n",
      "[61]\tvalidation-rmse:5.44381\n",
      "[62]\tvalidation-rmse:5.44180\n",
      "[63]\tvalidation-rmse:5.44045\n",
      "[64]\tvalidation-rmse:5.43890\n",
      "[65]\tvalidation-rmse:5.43726\n",
      "[66]\tvalidation-rmse:5.43582\n",
      "[67]\tvalidation-rmse:5.43406\n",
      "[68]\tvalidation-rmse:5.43276\n",
      "[69]\tvalidation-rmse:5.43133\n",
      "[70]\tvalidation-rmse:5.42980\n",
      "[71]\tvalidation-rmse:5.42863\n",
      "[72]\tvalidation-rmse:5.42767\n",
      "[73]\tvalidation-rmse:5.42662\n",
      "[74]\tvalidation-rmse:5.42539\n",
      "[75]\tvalidation-rmse:5.42446\n",
      "[76]\tvalidation-rmse:5.42354\n",
      "[77]\tvalidation-rmse:5.42277\n",
      "[78]\tvalidation-rmse:5.42186\n",
      "[79]\tvalidation-rmse:5.42073\n",
      "[80]\tvalidation-rmse:5.41997\n",
      "[81]\tvalidation-rmse:5.41925\n",
      "[82]\tvalidation-rmse:5.41869\n",
      "[83]\tvalidation-rmse:5.41820\n",
      "[84]\tvalidation-rmse:5.41779\n",
      "[85]\tvalidation-rmse:5.41744\n",
      "[86]\tvalidation-rmse:5.41645\n",
      "[87]\tvalidation-rmse:5.41604\n",
      "[88]\tvalidation-rmse:5.41559\n",
      "[89]\tvalidation-rmse:5.41496\n",
      "[90]\tvalidation-rmse:5.41472\n",
      "[91]\tvalidation-rmse:5.41366\n",
      "[92]\tvalidation-rmse:5.41342\n",
      "[93]\tvalidation-rmse:5.41291\n",
      "[94]\tvalidation-rmse:5.41249\n",
      "[95]\tvalidation-rmse:5.41207\n",
      "[96]\tvalidation-rmse:5.41184\n",
      "[97]\tvalidation-rmse:5.41099\n",
      "[98]\tvalidation-rmse:5.41068\n",
      "[99]\tvalidation-rmse:5.41046\n"
     ]
    },
    {
     "name": "stderr",
     "output_type": "stream",
     "text": [
      "c:\\Users\\esteb\\apps\\PC-20205\\nyc-taxi-predictions-2025\\.venv\\Lib\\site-packages\\mlflow\\xgboost\\__init__.py:169: UserWarning: [21:15:48] WARNING: C:\\actions-runner\\_work\\xgboost\\xgboost\\src\\c_api\\c_api.cc:1575: Saving model in the UBJSON format as default.  You can use a file extension: `json` or `ubj` to choose between formats.\n",
      "  xgb_model.save_model(model_data_path)\n",
      "2025/10/23 21:15:53 WARNING mlflow.utils.environment: Failed to resolve installed pip version. ``pip`` will be added to conda.yaml environment spec without a version specifier.\n"
     ]
    },
    {
     "data": {
      "application/vnd.jupyter.widget-view+json": {
       "model_id": "c7c17d3634c2499ea17cc6e1a513bb3c",
       "version_major": 2,
       "version_minor": 0
      },
      "text/plain": [
       "Downloading artifacts:   0%|          | 0/7 [00:00<?, ?it/s]"
      ]
     },
     "metadata": {},
     "output_type": "display_data"
    },
    {
     "name": "stderr",
     "output_type": "stream",
     "text": [
      "c:\\Users\\esteb\\apps\\PC-20205\\nyc-taxi-predictions-2025\\.venv\\Lib\\site-packages\\mlflow\\xgboost\\__init__.py:321: UserWarning: [21:15:53] WARNING: C:\\actions-runner\\_work\\xgboost\\xgboost\\src\\c_api\\c_api.cc:1511: Unknown file format: `xgb`. Using UBJSON (`ubj`) as a guess.\n",
      "  model.load_model(xgb_model_path)\n",
      "[I 2025-10-23 21:15:58,038] Trial 1 finished with value: 5.410463874732254 and parameters: {'max_depth': 19, 'learning_rate': 0.059264241587996896, 'reg_alpha': 0.21539205131792016, 'reg_lambda': 0.05006540936006931, 'min_child_weight': 6.248180561354165}. Best is trial 1 with value: 5.410463874732254.\n"
     ]
    },
    {
     "name": "stdout",
     "output_type": "stream",
     "text": [
      "🏃 View run bustling-vole-670 at: https://adb-3598518169245956.16.azuredatabricks.net/ml/experiments/3998396881915768/runs/391a4d75c8944b6aaf705c0df3fbfd62\n",
      "🧪 View experiment at: https://adb-3598518169245956.16.azuredatabricks.net/ml/experiments/3998396881915768\n",
      "[0]\tvalidation-rmse:5.85130\n",
      "[1]\tvalidation-rmse:5.74043\n",
      "[2]\tvalidation-rmse:5.72146\n",
      "[3]\tvalidation-rmse:5.71927\n",
      "[4]\tvalidation-rmse:5.70906\n",
      "[5]\tvalidation-rmse:5.70183\n",
      "[6]\tvalidation-rmse:5.68997\n",
      "[7]\tvalidation-rmse:5.67941\n",
      "[8]\tvalidation-rmse:5.67714\n",
      "[9]\tvalidation-rmse:5.67594\n",
      "[10]\tvalidation-rmse:5.67850\n",
      "[11]\tvalidation-rmse:5.67582\n",
      "[12]\tvalidation-rmse:5.67678\n",
      "[13]\tvalidation-rmse:5.66184\n",
      "[14]\tvalidation-rmse:5.65662\n",
      "[15]\tvalidation-rmse:5.65596\n",
      "[16]\tvalidation-rmse:5.65571\n",
      "[17]\tvalidation-rmse:5.65327\n",
      "[18]\tvalidation-rmse:5.64906\n",
      "[19]\tvalidation-rmse:5.65130\n",
      "[20]\tvalidation-rmse:5.64476\n",
      "[21]\tvalidation-rmse:5.64460\n",
      "[22]\tvalidation-rmse:5.64547\n",
      "[23]\tvalidation-rmse:5.64525\n",
      "[24]\tvalidation-rmse:5.64959\n",
      "[25]\tvalidation-rmse:5.64695\n",
      "[26]\tvalidation-rmse:5.64961\n",
      "[27]\tvalidation-rmse:5.64846\n",
      "[28]\tvalidation-rmse:5.64693\n",
      "[29]\tvalidation-rmse:5.64620\n",
      "[30]\tvalidation-rmse:5.64611\n",
      "[31]\tvalidation-rmse:5.64165\n",
      "[32]\tvalidation-rmse:5.63904\n",
      "[33]\tvalidation-rmse:5.63700\n",
      "[34]\tvalidation-rmse:5.63538\n",
      "[35]\tvalidation-rmse:5.63521\n",
      "[36]\tvalidation-rmse:5.63364\n",
      "[37]\tvalidation-rmse:5.62648\n",
      "[38]\tvalidation-rmse:5.62545\n",
      "[39]\tvalidation-rmse:5.62409\n",
      "[40]\tvalidation-rmse:5.62623\n",
      "[41]\tvalidation-rmse:5.62538\n",
      "[42]\tvalidation-rmse:5.62733\n",
      "[43]\tvalidation-rmse:5.62495\n",
      "[44]\tvalidation-rmse:5.62397\n",
      "[45]\tvalidation-rmse:5.62164\n",
      "[46]\tvalidation-rmse:5.62151\n",
      "[47]\tvalidation-rmse:5.62392\n",
      "[48]\tvalidation-rmse:5.62211\n",
      "[49]\tvalidation-rmse:5.62041\n",
      "[50]\tvalidation-rmse:5.61781\n",
      "[51]\tvalidation-rmse:5.61665\n",
      "[52]\tvalidation-rmse:5.61675\n",
      "[53]\tvalidation-rmse:5.61633\n",
      "[54]\tvalidation-rmse:5.61780\n",
      "[55]\tvalidation-rmse:5.61417\n",
      "[56]\tvalidation-rmse:5.61373\n",
      "[57]\tvalidation-rmse:5.61372\n",
      "[58]\tvalidation-rmse:5.61248\n",
      "[59]\tvalidation-rmse:5.61534\n",
      "[60]\tvalidation-rmse:5.61427\n",
      "[61]\tvalidation-rmse:5.61079\n",
      "[62]\tvalidation-rmse:5.61207\n",
      "[63]\tvalidation-rmse:5.61336\n",
      "[64]\tvalidation-rmse:5.61189\n",
      "[65]\tvalidation-rmse:5.61003\n",
      "[66]\tvalidation-rmse:5.60880\n",
      "[67]\tvalidation-rmse:5.60741\n",
      "[68]\tvalidation-rmse:5.60922\n",
      "[69]\tvalidation-rmse:5.60743\n",
      "[70]\tvalidation-rmse:5.60675\n",
      "[71]\tvalidation-rmse:5.60409\n",
      "[72]\tvalidation-rmse:5.60525\n",
      "[73]\tvalidation-rmse:5.60425\n",
      "[74]\tvalidation-rmse:5.60278\n",
      "[75]\tvalidation-rmse:5.60017\n",
      "[76]\tvalidation-rmse:5.59910\n",
      "[77]\tvalidation-rmse:5.59922\n",
      "[78]\tvalidation-rmse:5.60561\n",
      "[79]\tvalidation-rmse:5.60515\n",
      "[80]\tvalidation-rmse:5.60398\n",
      "[81]\tvalidation-rmse:5.60401\n",
      "[82]\tvalidation-rmse:5.60174\n",
      "[83]\tvalidation-rmse:5.60966\n",
      "[84]\tvalidation-rmse:5.61009\n",
      "[85]\tvalidation-rmse:5.61018\n",
      "[86]\tvalidation-rmse:5.60930\n"
     ]
    },
    {
     "name": "stderr",
     "output_type": "stream",
     "text": [
      "c:\\Users\\esteb\\apps\\PC-20205\\nyc-taxi-predictions-2025\\.venv\\Lib\\site-packages\\mlflow\\xgboost\\__init__.py:169: UserWarning: [21:16:05] WARNING: C:\\actions-runner\\_work\\xgboost\\xgboost\\src\\c_api\\c_api.cc:1575: Saving model in the UBJSON format as default.  You can use a file extension: `json` or `ubj` to choose between formats.\n",
      "  xgb_model.save_model(model_data_path)\n",
      "2025/10/23 21:16:09 WARNING mlflow.utils.environment: Failed to resolve installed pip version. ``pip`` will be added to conda.yaml environment spec without a version specifier.\n"
     ]
    },
    {
     "data": {
      "application/vnd.jupyter.widget-view+json": {
       "model_id": "989a1300e5684ea3a3a7125239672ebb",
       "version_major": 2,
       "version_minor": 0
      },
      "text/plain": [
       "Downloading artifacts:   0%|          | 0/7 [00:00<?, ?it/s]"
      ]
     },
     "metadata": {},
     "output_type": "display_data"
    },
    {
     "name": "stderr",
     "output_type": "stream",
     "text": [
      "c:\\Users\\esteb\\apps\\PC-20205\\nyc-taxi-predictions-2025\\.venv\\Lib\\site-packages\\mlflow\\xgboost\\__init__.py:321: UserWarning: [21:16:09] WARNING: C:\\actions-runner\\_work\\xgboost\\xgboost\\src\\c_api\\c_api.cc:1511: Unknown file format: `xgb`. Using UBJSON (`ubj`) as a guess.\n",
      "  model.load_model(xgb_model_path)\n",
      "[I 2025-10-23 21:16:11,491] Trial 2 finished with value: 5.609300918544036 and parameters: {'max_depth': 5, 'learning_rate': 0.9136840519292247, 'reg_alpha': 0.18820387978911576, 'reg_lambda': 0.007166739666045858, 'min_child_weight': 0.7613210498541186}. Best is trial 1 with value: 5.410463874732254.\n"
     ]
    },
    {
     "name": "stdout",
     "output_type": "stream",
     "text": [
      "🏃 View run judicious-auk-873 at: https://adb-3598518169245956.16.azuredatabricks.net/ml/experiments/3998396881915768/runs/bf506fee6e814da889515d88803ae2bc\n",
      "🧪 View experiment at: https://adb-3598518169245956.16.azuredatabricks.net/ml/experiments/3998396881915768\n",
      "[0]\tvalidation-rmse:8.77707\n",
      "[1]\tvalidation-rmse:8.47452\n",
      "[2]\tvalidation-rmse:8.19669\n",
      "[3]\tvalidation-rmse:7.94182\n",
      "[4]\tvalidation-rmse:7.70901\n",
      "[5]\tvalidation-rmse:7.49664\n",
      "[6]\tvalidation-rmse:7.30245\n",
      "[7]\tvalidation-rmse:7.12626\n",
      "[8]\tvalidation-rmse:6.96581\n",
      "[9]\tvalidation-rmse:6.81994\n",
      "[10]\tvalidation-rmse:6.68775\n",
      "[11]\tvalidation-rmse:6.56832\n",
      "[12]\tvalidation-rmse:6.46039\n",
      "[13]\tvalidation-rmse:6.36272\n",
      "[14]\tvalidation-rmse:6.27449\n",
      "[15]\tvalidation-rmse:6.19394\n",
      "[16]\tvalidation-rmse:6.12203\n",
      "[17]\tvalidation-rmse:6.05669\n",
      "[18]\tvalidation-rmse:5.99838\n",
      "[19]\tvalidation-rmse:5.94487\n",
      "[20]\tvalidation-rmse:5.89709\n",
      "[21]\tvalidation-rmse:5.85472\n",
      "[22]\tvalidation-rmse:5.81565\n",
      "[23]\tvalidation-rmse:5.78117\n",
      "[24]\tvalidation-rmse:5.74956\n",
      "[25]\tvalidation-rmse:5.72125\n",
      "[26]\tvalidation-rmse:5.69577\n",
      "[27]\tvalidation-rmse:5.67283\n",
      "[28]\tvalidation-rmse:5.65235\n",
      "[29]\tvalidation-rmse:5.63408\n",
      "[30]\tvalidation-rmse:5.61693\n",
      "[31]\tvalidation-rmse:5.60146\n",
      "[32]\tvalidation-rmse:5.58729\n",
      "[33]\tvalidation-rmse:5.57488\n",
      "[34]\tvalidation-rmse:5.56325\n",
      "[35]\tvalidation-rmse:5.55263\n",
      "[36]\tvalidation-rmse:5.54270\n",
      "[37]\tvalidation-rmse:5.53408\n",
      "[38]\tvalidation-rmse:5.52628\n",
      "[39]\tvalidation-rmse:5.51936\n",
      "[40]\tvalidation-rmse:5.51300\n",
      "[41]\tvalidation-rmse:5.50724\n",
      "[42]\tvalidation-rmse:5.50206\n",
      "[43]\tvalidation-rmse:5.49720\n",
      "[44]\tvalidation-rmse:5.49290\n",
      "[45]\tvalidation-rmse:5.48778\n",
      "[46]\tvalidation-rmse:5.48302\n",
      "[47]\tvalidation-rmse:5.47966\n",
      "[48]\tvalidation-rmse:5.47615\n",
      "[49]\tvalidation-rmse:5.47273\n",
      "[50]\tvalidation-rmse:5.46948\n",
      "[51]\tvalidation-rmse:5.46665\n",
      "[52]\tvalidation-rmse:5.46376\n",
      "[53]\tvalidation-rmse:5.46097\n",
      "[54]\tvalidation-rmse:5.45798\n",
      "[55]\tvalidation-rmse:5.45555\n",
      "[56]\tvalidation-rmse:5.45318\n",
      "[57]\tvalidation-rmse:5.45135\n",
      "[58]\tvalidation-rmse:5.44924\n",
      "[59]\tvalidation-rmse:5.44741\n",
      "[60]\tvalidation-rmse:5.44562\n",
      "[61]\tvalidation-rmse:5.44381\n",
      "[62]\tvalidation-rmse:5.44180\n",
      "[63]\tvalidation-rmse:5.44045\n",
      "[64]\tvalidation-rmse:5.43890\n",
      "[65]\tvalidation-rmse:5.43726\n",
      "[66]\tvalidation-rmse:5.43582\n",
      "[67]\tvalidation-rmse:5.43406\n",
      "[68]\tvalidation-rmse:5.43276\n",
      "[69]\tvalidation-rmse:5.43133\n",
      "[70]\tvalidation-rmse:5.42980\n",
      "[71]\tvalidation-rmse:5.42863\n",
      "[72]\tvalidation-rmse:5.42767\n",
      "[73]\tvalidation-rmse:5.42662\n",
      "[74]\tvalidation-rmse:5.42539\n",
      "[75]\tvalidation-rmse:5.42446\n",
      "[76]\tvalidation-rmse:5.42354\n",
      "[77]\tvalidation-rmse:5.42277\n",
      "[78]\tvalidation-rmse:5.42186\n",
      "[79]\tvalidation-rmse:5.42073\n",
      "[80]\tvalidation-rmse:5.41997\n",
      "[81]\tvalidation-rmse:5.41925\n",
      "[82]\tvalidation-rmse:5.41869\n",
      "[83]\tvalidation-rmse:5.41820\n",
      "[84]\tvalidation-rmse:5.41779\n",
      "[85]\tvalidation-rmse:5.41744\n",
      "[86]\tvalidation-rmse:5.41645\n",
      "[87]\tvalidation-rmse:5.41604\n",
      "[88]\tvalidation-rmse:5.41559\n",
      "[89]\tvalidation-rmse:5.41496\n",
      "[90]\tvalidation-rmse:5.41472\n",
      "[91]\tvalidation-rmse:5.41366\n",
      "[92]\tvalidation-rmse:5.41342\n",
      "[93]\tvalidation-rmse:5.41291\n",
      "[94]\tvalidation-rmse:5.41249\n",
      "[95]\tvalidation-rmse:5.41207\n",
      "[96]\tvalidation-rmse:5.41184\n",
      "[97]\tvalidation-rmse:5.41099\n",
      "[98]\tvalidation-rmse:5.41068\n",
      "[99]\tvalidation-rmse:5.41046\n"
     ]
    },
    {
     "name": "stderr",
     "output_type": "stream",
     "text": [
      "c:\\Users\\esteb\\apps\\PC-20205\\nyc-taxi-predictions-2025\\.venv\\Lib\\site-packages\\mlflow\\xgboost\\__init__.py:169: UserWarning: [21:16:23] WARNING: C:\\actions-runner\\_work\\xgboost\\xgboost\\src\\c_api\\c_api.cc:1575: Saving model in the UBJSON format as default.  You can use a file extension: `json` or `ubj` to choose between formats.\n",
      "  xgb_model.save_model(model_data_path)\n",
      "2025/10/23 21:16:28 WARNING mlflow.utils.environment: Failed to resolve installed pip version. ``pip`` will be added to conda.yaml environment spec without a version specifier.\n"
     ]
    },
    {
     "data": {
      "application/vnd.jupyter.widget-view+json": {
       "model_id": "9261e2ce3b51498a9c445558d98b8350",
       "version_major": 2,
       "version_minor": 0
      },
      "text/plain": [
       "Downloading artifacts:   0%|          | 0/7 [00:00<?, ?it/s]"
      ]
     },
     "metadata": {},
     "output_type": "display_data"
    },
    {
     "name": "stderr",
     "output_type": "stream",
     "text": [
      "c:\\Users\\esteb\\apps\\PC-20205\\nyc-taxi-predictions-2025\\.venv\\Lib\\site-packages\\mlflow\\xgboost\\__init__.py:321: UserWarning: [21:16:29] WARNING: C:\\actions-runner\\_work\\xgboost\\xgboost\\src\\c_api\\c_api.cc:1511: Unknown file format: `xgb`. Using UBJSON (`ubj`) as a guess.\n",
      "  model.load_model(xgb_model_path)\n"
     ]
    },
    {
     "name": "stdout",
     "output_type": "stream",
     "text": [
      "🏃 View run XGBoost Hyperparameter Optimization (Optuna) at: https://adb-3598518169245956.16.azuredatabricks.net/ml/experiments/3998396881915768/runs/cdd16d4123a34a59be4e2ab1f2fa30b9\n",
      "🧪 View experiment at: https://adb-3598518169245956.16.azuredatabricks.net/ml/experiments/3998396881915768\n"
     ]
    }
   ],
   "source": [
    "mlflow.xgboost.autolog(log_models=False)\n",
    "\n",
    "# ------------------------------------------------------------\n",
    "# Crear el estudio de Optuna\n",
    "#    - Usamos TPE (Tree-structured Parzen Estimator) como sampler.\n",
    "#    - direction=\"minimize\" porque queremos minimizar el RMSE.\n",
    "# ------------------------------------------------------------\n",
    "sampler = TPESampler(seed=42)\n",
    "study = optuna.create_study(direction=\"minimize\", sampler=sampler)\n",
    "\n",
    "# ------------------------------------------------------------\n",
    "# Ejecutar la optimización (n_trials = número de intentos)\n",
    "#    - Cada trial ejecuta la función objetivo con un set distinto de hiperparámetros.\n",
    "#    - Abrimos un run \"padre\" para agrupar toda la búsqueda.\n",
    "# ------------------------------------------------------------\n",
    "with mlflow.start_run(run_name=\"XGBoost Hyperparameter Optimization (Optuna)\", nested=True):\n",
    "    study.optimize(objective, n_trials=3)\n",
    "\n",
    "    # --------------------------------------------------------\n",
    "    # Recuperar y registrar los mejores hiperparámetros\n",
    "    # --------------------------------------------------------\n",
    "    best_params = study.best_params\n",
    "    # Asegurar tipos/campos fijos (por claridad y consistencia)\n",
    "    best_params[\"max_depth\"] = int(best_params[\"max_depth\"])\n",
    "    best_params[\"seed\"] = 42\n",
    "    best_params[\"objective\"] = \"reg:squarederror\"\n",
    "\n",
    "    mlflow.log_params(best_params)\n",
    "\n",
    "    # Etiquetas del run \"padre\" (metadatos del experimento)\n",
    "    mlflow.set_tags({\n",
    "        \"project\": \"NYC Taxi Time Prediction Project\",\n",
    "        \"optimizer_engine\": \"optuna\",\n",
    "        \"model_family\": \"xgboost\",\n",
    "        \"feature_set_version\": 1,\n",
    "    })\n",
    "\n",
    "    # --------------------------------------------------------\n",
    "    # 7) Entrenar un modelo FINAL con los mejores hiperparámetros\n",
    "    #    (normalmente se haría sobre train+val o con CV; aquí mantenemos el patrón original)\n",
    "    # --------------------------------------------------------\n",
    "    booster = xgb.train(\n",
    "        params=best_params,\n",
    "        dtrain=train,\n",
    "        num_boost_round=100,\n",
    "        evals=[(valid, \"validation\")],\n",
    "        early_stopping_rounds=10,\n",
    "    )\n",
    "\n",
    "    # Evaluar y registrar la métrica final en validación\n",
    "    y_pred = booster.predict(valid)\n",
    "    rmse = root_mean_squared_error(y_val, y_pred)\n",
    "    mlflow.log_metric(\"rmse\", rmse)\n",
    "\n",
    "    # --------------------------------------------------------\n",
    "    # 8) Guardar artefactos adicionales (p. ej. el preprocesador)\n",
    "    # --------------------------------------------------------\n",
    "    pathlib.Path(\"preprocessor\").mkdir(exist_ok=True)\n",
    "    with open(\"preprocessor/preprocessor.b\", \"wb\") as f_out:\n",
    "        pickle.dump(dv, f_out)\n",
    "\n",
    "    mlflow.log_artifact(\"preprocessor/preprocessor.b\", artifact_path=\"preprocessor\")\n",
    "\n",
    "    # La \"signature\" describe la estructura esperada de entrada y salida del modelo:\n",
    "    # incluye los nombres, tipos y forma (shape) de las variables de entrada y el tipo de salida.\n",
    "    # MLflow la usa para validar datos en inferencia y documentar el modelo en el Model Registry.\n",
    "    # Si X_val es la matriz dispersa (scipy.sparse) salida de DictVectorizer:\n",
    "    feature_names = dv.get_feature_names_out()\n",
    "    input_example = pd.DataFrame(X_val[:5].toarray(), columns=feature_names)\n",
    "\n",
    "    # Para que las longitudes coincidan, usa el mismo slice en y_pred\n",
    "    signature = infer_signature(input_example, y_val[:5])\n",
    "\n",
    "    # Guardar el modelo del trial como artefacto en MLflow.\n",
    "    mlflow.xgboost.log_model(\n",
    "        booster,\n",
    "        name=\"model\",\n",
    "        input_example=input_example,\n",
    "        signature=signature\n",
    "    )"
   ]
  },
  {
   "cell_type": "code",
   "execution_count": 43,
   "id": "9cc5b03f",
   "metadata": {},
   "outputs": [],
   "source": [
    "model_name = \"time_series.default.nyc-taxi-model\""
   ]
  },
  {
   "cell_type": "code",
   "execution_count": 44,
   "id": "564bac9f",
   "metadata": {},
   "outputs": [
    {
     "name": "stdout",
     "output_type": "stream",
     "text": [
      "tracking: databricks\n",
      "registry: databricks-uc\n"
     ]
    }
   ],
   "source": [
    "import mlflow\n",
    "print(\"tracking:\", mlflow.get_tracking_uri())\n",
    "print(\"registry:\", mlflow.get_registry_uri())"
   ]
  },
  {
   "cell_type": "code",
   "execution_count": 45,
   "id": "6726cb0b",
   "metadata": {},
   "outputs": [
    {
     "name": "stderr",
     "output_type": "stream",
     "text": [
      "Registered model 'time_series.default.nyc-taxi-model' already exists. Creating a new version of this model...\n",
      "2025/10/23 21:16:38 WARNING mlflow.tracking._model_registry.fluent: Run with id cdd16d4123a34a59be4e2ab1f2fa30b9 has no artifacts at artifact path 'model', registering model based on models:/m-ceae3029e29a48b49cc4314656549cee instead\n"
     ]
    },
    {
     "data": {
      "application/vnd.jupyter.widget-view+json": {
       "model_id": "937fad3be0574a91be8daa41d8764d96",
       "version_major": 2,
       "version_minor": 0
      },
      "text/plain": [
       "Downloading artifacts:   0%|          | 0/7 [00:00<?, ?it/s]"
      ]
     },
     "metadata": {},
     "output_type": "display_data"
    },
    {
     "data": {
      "application/vnd.jupyter.widget-view+json": {
       "model_id": "130541b66fb647128e6e656e37fb22ec",
       "version_major": 2,
       "version_minor": 0
      },
      "text/plain": [
       "Uploading artifacts:   0%|          | 0/8 [00:00<?, ?it/s]"
      ]
     },
     "metadata": {},
     "output_type": "display_data"
    },
    {
     "name": "stderr",
     "output_type": "stream",
     "text": [
      "Created version '4' of model 'time_series.default.nyc-taxi-model'.\n"
     ]
    }
   ],
   "source": [
    "run_id = input(\"Ingrese el run_id\")\n",
    "run_uri = f\"runs:/{run_id}/model\"\n",
    "\n",
    "result = mlflow.register_model(\n",
    "    model_uri=run_uri,\n",
    "    name=\"time_series.default.nyc-taxi-model\"\n",
    ")"
   ]
  },
  {
   "cell_type": "code",
   "execution_count": 46,
   "id": "cea2f605",
   "metadata": {},
   "outputs": [
    {
     "name": "stdout",
     "output_type": "stream",
     "text": [
      "🏆 Champion Run encontrado:\n",
      "Run ID: 391a4d75c8944b6aaf705c0df3fbfd62\n",
      "RMSE: 5.410463874732254\n",
      "Params: {'custom_metric': 'None', 'early_stopping_rounds': '10', 'learning_rate': '0.059264241587996896', 'max_depth': '19', 'maximize': 'None', 'min_child_weight': '6.248180561354165', 'num_boost_round': '100', 'objective': 'reg:squarederror', 'reg_alpha': '0.21539205131792016', 'reg_lambda': '0.05006540936006931', 'seed': '42', 'verbose_eval': 'True'}\n"
     ]
    }
   ],
   "source": [
    "runs = mlflow.search_runs(\n",
    "    experiment_names=[EXPERIMENT_NAME],\n",
    "    order_by=[\"metrics.rmse ASC\"],\n",
    "    output_format=\"list\"\n",
    ")\n",
    "\n",
    "# Obtener el mejor run\n",
    "if len(runs) > 0:\n",
    "    best_run = runs[0]\n",
    "    print(\"🏆 Champion Run encontrado:\")\n",
    "    print(f\"Run ID: {best_run.info.run_id}\")\n",
    "    print(f\"RMSE: {best_run.data.metrics['rmse']}\")\n",
    "    print(f\"Params: {best_run.data.params}\")\n",
    "else:\n",
    "    print(\"⚠️ No se encontraron runs con métrica RMSE.\")"
   ]
  },
  {
   "cell_type": "code",
   "execution_count": 47,
   "id": "cc093e80",
   "metadata": {},
   "outputs": [
    {
     "name": "stderr",
     "output_type": "stream",
     "text": [
      "Registered model 'time_series.default.nyc-taxi-model' already exists. Creating a new version of this model...\n",
      "2025/10/23 21:16:48 WARNING mlflow.tracking._model_registry.fluent: Run with id 391a4d75c8944b6aaf705c0df3fbfd62 has no artifacts at artifact path 'model', registering model based on models:/m-b907456d6fed44a48dd47c64d16b2ffe instead\n"
     ]
    },
    {
     "data": {
      "application/vnd.jupyter.widget-view+json": {
       "model_id": "24a9a6ea0df1440491316aeeba1df575",
       "version_major": 2,
       "version_minor": 0
      },
      "text/plain": [
       "Downloading artifacts:   0%|          | 0/7 [00:00<?, ?it/s]"
      ]
     },
     "metadata": {},
     "output_type": "display_data"
    },
    {
     "data": {
      "application/vnd.jupyter.widget-view+json": {
       "model_id": "d39b2847eb0a43b79e140933c569cbdb",
       "version_major": 2,
       "version_minor": 0
      },
      "text/plain": [
       "Uploading artifacts:   0%|          | 0/8 [00:00<?, ?it/s]"
      ]
     },
     "metadata": {},
     "output_type": "display_data"
    },
    {
     "name": "stderr",
     "output_type": "stream",
     "text": [
      "Created version '5' of model 'time_series.default.nyc-taxi-model'.\n"
     ]
    }
   ],
   "source": [
    "result = mlflow.register_model(\n",
    "    model_uri=f\"runs:/{best_run.info.run_id}/model\",\n",
    "    name=model_name\n",
    ")"
   ]
  },
  {
   "cell_type": "code",
   "execution_count": 48,
   "id": "7bdd2320",
   "metadata": {},
   "outputs": [],
   "source": [
    "from mlflow import MlflowClient\n",
    "\n",
    "client = MlflowClient()"
   ]
  },
  {
   "cell_type": "code",
   "execution_count": 49,
   "id": "4161a2d8",
   "metadata": {},
   "outputs": [],
   "source": [
    "model_version = result.version\n",
    "new_alias = \"Champion\"\n",
    "\n",
    "client.set_registered_model_alias(\n",
    "    name=model_name,\n",
    "    alias=new_alias,\n",
    "    version=result.version\n",
    ")"
   ]
  },
  {
   "cell_type": "code",
   "execution_count": 50,
   "id": "01453ef2",
   "metadata": {},
   "outputs": [
    {
     "data": {
      "text/plain": [
       "<ModelVersion: aliases=[], creation_timestamp=1761275813244, current_stage=None, deployment_job_state=<ModelVersionDeploymentJobState: current_task_name='', job_id='', job_state='DEPLOYMENT_JOB_CONNECTION_STATE_UNSPECIFIED', run_id='', run_state='DEPLOYMENT_JOB_RUN_STATE_UNSPECIFIED'>, description='The model version 5 was transitioned to Champion on 2025-10-23 21:16:57.365518', last_updated_timestamp=1761275817791, metrics=[<Metric: dataset_digest='', dataset_name='', key='best_iteration', model_id='m-b907456d6fed44a48dd47c64d16b2ffe', run_id='391a4d75c8944b6aaf705c0df3fbfd62', step=0, timestamp=1761275743229, value=99.0>,\n",
       " <Metric: dataset_digest='', dataset_name='', key='rmse', model_id='m-b907456d6fed44a48dd47c64d16b2ffe', run_id='391a4d75c8944b6aaf705c0df3fbfd62', step=0, timestamp=1761275747069, value=5.410463874732254>,\n",
       " <Metric: dataset_digest='', dataset_name='', key='stopped_iteration', model_id='m-b907456d6fed44a48dd47c64d16b2ffe', run_id='391a4d75c8944b6aaf705c0df3fbfd62', step=0, timestamp=1761275743229, value=99.0>,\n",
       " <Metric: dataset_digest='', dataset_name='', key='validation-rmse', model_id='m-b907456d6fed44a48dd47c64d16b2ffe', run_id='391a4d75c8944b6aaf705c0df3fbfd62', step=0, timestamp=1761275736976, value=8.77707250922426>], model_id='m-b907456d6fed44a48dd47c64d16b2ffe', name='time_series.default.nyc-taxi-model', params=[<LoggedModelParameter: key='reg_lambda', value='0.05006540936006931'>,\n",
       " <LoggedModelParameter: key='min_child_weight', value='6.248180561354165'>,\n",
       " <LoggedModelParameter: key='custom_metric', value='None'>,\n",
       " <LoggedModelParameter: key='max_depth', value='19'>,\n",
       " <LoggedModelParameter: key='early_stopping_rounds', value='10'>,\n",
       " <LoggedModelParameter: key='reg_alpha', value='0.21539205131792016'>,\n",
       " <LoggedModelParameter: key='num_boost_round', value='100'>,\n",
       " <LoggedModelParameter: key='objective', value='reg:squarederror'>,\n",
       " <LoggedModelParameter: key='verbose_eval', value='True'>,\n",
       " <LoggedModelParameter: key='seed', value='42'>,\n",
       " <LoggedModelParameter: key='learning_rate', value='0.059264241587996896'>,\n",
       " <LoggedModelParameter: key='maximize', value='None'>], run_id='391a4d75c8944b6aaf705c0df3fbfd62', run_link=None, source='models:/m-b907456d6fed44a48dd47c64d16b2ffe', status='READY', status_message='', tags={}, user_id='esteban.berumen@iteso.mx', version='5'>"
      ]
     },
     "execution_count": 50,
     "metadata": {},
     "output_type": "execute_result"
    }
   ],
   "source": [
    "from datetime import datetime\n",
    "\n",
    "date = datetime.today()\n",
    "\n",
    "client.update_model_version(\n",
    "    name=model_name,\n",
    "    version=model_version,\n",
    "    description=f\"The model version {model_version} was transitioned to {new_alias} on {date}\",\n",
    ")"
   ]
  },
  {
   "cell_type": "code",
   "execution_count": 51,
   "id": "cc2ffb67",
   "metadata": {},
   "outputs": [
    {
     "data": {
      "application/vnd.jupyter.widget-view+json": {
       "model_id": "692965e9291841af9f6dcfca7ae95c8b",
       "version_major": 2,
       "version_minor": 0
      },
      "text/plain": [
       "Downloading artifacts:   0%|          | 0/8 [00:00<?, ?it/s]"
      ]
     },
     "metadata": {},
     "output_type": "display_data"
    },
    {
     "name": "stderr",
     "output_type": "stream",
     "text": [
      "c:\\Users\\esteb\\apps\\PC-20205\\nyc-taxi-predictions-2025\\.venv\\Lib\\site-packages\\mlflow\\xgboost\\__init__.py:321: UserWarning: [21:17:02] WARNING: C:\\actions-runner\\_work\\xgboost\\xgboost\\src\\c_api\\c_api.cc:1511: Unknown file format: `xgb`. Using UBJSON (`ubj`) as a guess.\n",
      "  model.load_model(xgb_model_path)\n"
     ]
    },
    {
     "data": {
      "text/plain": [
       "array([ 5.182502, 25.113163, 28.840343, ..., 20.413898, 15.336824,\n",
       "       22.998106], shape=(44218,), dtype=float32)"
      ]
     },
     "execution_count": 51,
     "metadata": {},
     "output_type": "execute_result"
    }
   ],
   "source": [
    "import mlflow.pyfunc\n",
    "\n",
    "model_version_uri = f\"models:/{model_name}@Champion\"\n",
    "\n",
    "champion_version = mlflow.pyfunc.load_model(model_version_uri)\n",
    "champion_version.predict(X_val)"
   ]
  }
 ],
 "metadata": {
  "kernelspec": {
   "display_name": "nyc-taxi-predictions-2025",
   "language": "python",
   "name": "python3"
  },
  "language_info": {
   "codemirror_mode": {
    "name": "ipython",
    "version": 3
   },
   "file_extension": ".py",
   "mimetype": "text/x-python",
   "name": "python",
   "nbconvert_exporter": "python",
   "pygments_lexer": "ipython3",
   "version": "3.11.9"
  }
 },
 "nbformat": 4,
 "nbformat_minor": 5
}
